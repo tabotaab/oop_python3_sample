{
 "cells": [
  {
   "cell_type": "code",
   "execution_count": 44,
   "metadata": {},
   "outputs": [],
   "source": [
    "# Study source: https://realpython.com/python3-object-oriented-programming/\n",
    "\n",
    "class Dog:\n",
    "    \n",
    "    # Class Attribute\n",
    "    species = 'mammal'\n",
    "    \n",
    "    # Initializer / Instance Attributes\n",
    "    def __init__(self, name, age):\n",
    "        self.name = name\n",
    "        self.age = age\n",
    "        self.is_hungry = True\n",
    "        \n",
    "    # instance method\n",
    "    def description(self):\n",
    "        return \"{} is {} years old.\".format(self.name, self.age)\n",
    "\n",
    "    # instance method\n",
    "    def speak(self, sound):\n",
    "        return \"{} says {}.\".format(self.name, sound)\n",
    "    \n",
    "    def eat(self):\n",
    "        self.is_hungry = False"
   ]
  },
  {
   "cell_type": "code",
   "execution_count": 45,
   "metadata": {},
   "outputs": [
    {
     "data": {
      "text/plain": [
       "__main__.Dog"
      ]
     },
     "execution_count": 45,
     "metadata": {},
     "output_type": "execute_result"
    }
   ],
   "source": [
    "# Instantiate the Dog object\n",
    "\n",
    "pappy = Dog(\"pappy\",8)\n",
    "barfi = Dog(\"barfi\",3)\n",
    "type(pappy)\n"
   ]
  },
  {
   "cell_type": "code",
   "execution_count": 14,
   "metadata": {},
   "outputs": [
    {
     "name": "stdout",
     "output_type": "stream",
     "text": [
      "pappy is 8 and barfi is 3 years old.\n"
     ]
    }
   ],
   "source": [
    "# Access the instance attributes\n",
    "print(\"{} is {} and {} is {} years old.\".format(pappy.name,pappy.age,barfi.name,barfi.age))"
   ]
  },
  {
   "cell_type": "code",
   "execution_count": 15,
   "metadata": {},
   "outputs": [
    {
     "name": "stdout",
     "output_type": "stream",
     "text": [
      "barfi is a mammal!\n"
     ]
    }
   ],
   "source": [
    "# Is Philo a mammal?\n",
    "if (barfi.species == \"mammal\"):\n",
    "    print(\"{0} is a {1}!\".format(barfi.name,barfi.species))"
   ]
  },
  {
   "cell_type": "code",
   "execution_count": 16,
   "metadata": {},
   "outputs": [
    {
     "name": "stdout",
     "output_type": "stream",
     "text": [
      "The oldest dog is 8 years old.\n"
     ]
    }
   ],
   "source": [
    "# The oldest dog\n",
    "\n",
    "pashmi = Dog(\"pashmi\",5)\n",
    "\n",
    "def get_biggest_number(*args):\n",
    "    return max(args)\n",
    "    \n",
    "print(\"The oldest dog is {0} years old.\".format(get_biggest_number(pappy.age,barfi.age,pashmi.age)))"
   ]
  },
  {
   "cell_type": "code",
   "execution_count": 20,
   "metadata": {},
   "outputs": [
    {
     "name": "stdout",
     "output_type": "stream",
     "text": [
      "pashmi is 5 years old\n",
      "pashmi says Hup Hup\n"
     ]
    }
   ],
   "source": [
    "print(pashmi.description())\n",
    "print(pashmi.speak(\"Hup Hup\"))"
   ]
  },
  {
   "cell_type": "code",
   "execution_count": 56,
   "metadata": {},
   "outputs": [],
   "source": [
    "## Python Object Inheritance\n",
    "\n",
    "# Child class (inherits from Dog class)\n",
    "class Bulldog(Dog):\n",
    "    def run(self,speed):\n",
    "        return \"{} runs {}.\".format(self.name,speed)\n",
    "    "
   ]
  },
  {
   "cell_type": "code",
   "execution_count": 30,
   "metadata": {},
   "outputs": [
    {
     "name": "stdout",
     "output_type": "stream",
     "text": [
      "Bulsag is 12 years old.\n",
      "Bulsag runs slowly.\n"
     ]
    }
   ],
   "source": [
    "bulsag = Bulldog(\"Bulsag\",12)\n",
    "print(bulsag.description())\n",
    "print(bulsag.run(\"slowly\"))"
   ]
  },
  {
   "cell_type": "code",
   "execution_count": 37,
   "metadata": {},
   "outputs": [
    {
     "name": "stdout",
     "output_type": "stream",
     "text": [
      "True\n",
      "True\n",
      "False\n",
      "False\n",
      "False\n"
     ]
    }
   ],
   "source": [
    "# Is jim an instance of Dog()?\n",
    "print(isinstance(bulsag, Dog))\n",
    "print(isinstance(bulsag, Bulldog))\n",
    "print(isinstance(pashmi, Dog))\n",
    "print(isinstance(pashmi, Bulldog))\n",
    "print(isinstance(Bulldog, Dog))"
   ]
  },
  {
   "cell_type": "code",
   "execution_count": 38,
   "metadata": {},
   "outputs": [],
   "source": [
    "# Overriding the Functionality of a Parent Class\n",
    "\n",
    "class cat(Dog):\n",
    "    species = \"cat\""
   ]
  },
  {
   "cell_type": "code",
   "execution_count": 43,
   "metadata": {},
   "outputs": [
    {
     "name": "stdout",
     "output_type": "stream",
     "text": [
      "Pishi is 6 years old and is a cat.\n",
      "Pishi says meu meu.\n"
     ]
    }
   ],
   "source": [
    "pishi = cat(\"Pishi\",6)\n",
    "print(\"{} is {} years old and is a {}.\".format(pishi.name,pishi.age,pishi.species))\n",
    "print(pishi.speak(\"meu meu\"))"
   ]
  },
  {
   "cell_type": "code",
   "execution_count": 59,
   "metadata": {},
   "outputs": [
    {
     "name": "stdout",
     "output_type": "stream",
     "text": [
      "Hapoo is hungry.\n",
      "Hapoo is not hungry.\n"
     ]
    }
   ],
   "source": [
    "def hungryornot(dog):\n",
    "    if dog.is_hungry:\n",
    "        return \"%s is hungry.\" % dog.name\n",
    "    else:\n",
    "        return \"{} is not hungry.\".format(dog.name)\n",
    "        \n",
    "hapoo = Bulldog(\"Hapoo\",2)\n",
    "print(hungryornot(hapoo))\n",
    "hapoo.eat()\n",
    "print(hungryornot(hapoo))"
   ]
  },
  {
   "cell_type": "code",
   "execution_count": null,
   "metadata": {},
   "outputs": [],
   "source": []
  }
 ],
 "metadata": {
  "kernelspec": {
   "display_name": "Python 3",
   "language": "python",
   "name": "python3"
  },
  "language_info": {
   "codemirror_mode": {
    "name": "ipython",
    "version": 3
   },
   "file_extension": ".py",
   "mimetype": "text/x-python",
   "name": "python",
   "nbconvert_exporter": "python",
   "pygments_lexer": "ipython3",
   "version": "3.4.3"
  }
 },
 "nbformat": 4,
 "nbformat_minor": 2
}
